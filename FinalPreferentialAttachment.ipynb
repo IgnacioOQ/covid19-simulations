{
 "cells": [
  {
   "cell_type": "markdown",
   "metadata": {},
   "source": [
    "# Studying Coronavirus"
   ]
  },
  {
   "cell_type": "markdown",
   "metadata": {},
   "source": [
    "## Parameters"
   ]
  },
  {
   "cell_type": "code",
   "execution_count": 1,
   "metadata": {},
   "outputs": [],
   "source": [
    "import time\n",
    "starttotal = time.time()\n",
    "\n",
    "import networkx as nx\n",
    "import random\n",
    "from random import sample\n",
    "import matplotlib.pyplot as plt \n",
    "import time"
   ]
  },
  {
   "cell_type": "code",
   "execution_count": 2,
   "metadata": {},
   "outputs": [],
   "source": [
    "beta = 0.3 # Infectious rate\n",
    "\n",
    "delta = {'kid': 0.3,'adult':0.3, 'senior': 0.1} # Recovery rate\n",
    "gamma = {'kid': 0.01,'adult':0.05, 'senior': 0.1} # Death rate\n",
    "\n",
    "iterations = 1"
   ]
  },
  {
   "cell_type": "markdown",
   "metadata": {},
   "source": [
    "## Generate the Network"
   ]
  },
  {
   "cell_type": "code",
   "execution_count": 3,
   "metadata": {},
   "outputs": [],
   "source": [
    "# So the first part is just having a random network with random weights\n",
    "import networkx as nx\n",
    "import random\n",
    "\n",
    "# Given a Network, we induce a weight reduction by *uniformely* \n",
    "# reducing weights \n",
    "# by a factor of 0<r<1\n",
    "def reduceweights(G,r):\n",
    "    for (u,v,w) in G.edges(data=True):\n",
    "        w['weight'] = w['weight']*r\n",
    "\n",
    "# Here n is total number of nodes, p the probability of links \n",
    "# (with random weights)\n",
    "# and k and a are the proportions of kids and adults in the \n",
    "# overall population - so remember to put fractions there!\n",
    "def createnetwork(n,p,k,a,r):\n",
    "    # This creates a preferential attachment network starting with\n",
    "    # 50 nodes (which will end up being the more central)\n",
    "    G = nx.barabasi_albert_graph(n, 50, seed=None)\n",
    "    for (u,v,w) in G.edges(data=True):\n",
    "        w['weight'] = random.random()\n",
    "    reduceweights(G,r)\n",
    "    \n",
    "    for node in G.nodes:\n",
    "        rd = random.random()\n",
    "        if rd<k:\n",
    "            G.add_node(node, age = \"kid\",state = \"susceptible\")\n",
    "        elif k<rd<a+k:\n",
    "            G.add_node(node, age = \"adult\",state = \"susceptible\")\n",
    "        elif a+k<rd:\n",
    "            G.add_node(node, age = \"senior\",state = \"susceptible\")\n",
    "    # We randomply pick 0.1% of the nodes and have them infected at initiation\n",
    "    for i in sample(G.nodes,int(n/1000)): \n",
    "        G.add_node(i,state = \"infected\")\n",
    "    return G"
   ]
  },
  {
   "cell_type": "markdown",
   "metadata": {},
   "source": [
    "## Defining the Dynamics"
   ]
  },
  {
   "cell_type": "code",
   "execution_count": 4,
   "metadata": {},
   "outputs": [],
   "source": [
    "def contagionstep(G):\n",
    "    # First create a list of the infected at that stage\n",
    "    infectedlist = []\n",
    "    for i in G.nodes:\n",
    "        if (G.nodes[i]['state']=='infected'):\n",
    "            infectedlist.append(i)\n",
    "    for j in infectedlist:\n",
    "        for key in G[j]: \n",
    "            # look at all the nodes each infected is connected with\n",
    "            # and if they are susceptible, infect with \n",
    "            # probability beta*weight\n",
    "            if G.nodes[key]['state'] == 'susceptible':\n",
    "                # Remember that contagion is also proportional\n",
    "                # to the weight of the link infected-susceptible\n",
    "                weight = G[j][key]['weight']\n",
    "                if random.random()<(beta*weight):\n",
    "                    G.add_node(key, state = \"infected\")\n",
    "        # also, the infected node might die with probability gamma\n",
    "        age = G.nodes[j]['age']\n",
    "        if random.random()<gamma[age]:\n",
    "            G.nodes[j]['state'] = 'dead'\n",
    "        # or they might recover with probability delta\n",
    "        # nb change to elif, because it's possible in v1 to die \n",
    "        # and then recover (which I assume was an accident)        \n",
    "        elif random.random()<delta[age]:\n",
    "            G.nodes[j]['state'] = 'recovered'\n",
    "    return G"
   ]
  },
  {
   "cell_type": "markdown",
   "metadata": {},
   "source": [
    "## Useful Functions"
   ]
  },
  {
   "cell_type": "code",
   "execution_count": 5,
   "metadata": {},
   "outputs": [],
   "source": [
    "# To Color the (final) network\n",
    "def colornetwork(G):\n",
    "    node_color = []\n",
    "    for node in G.nodes:\n",
    "        # if the node has the attribute susceptible\n",
    "        if G.nodes[node]['state']=='susceptible':\n",
    "            node_color.append('blue')\n",
    "        # if the node has the attribute infected\n",
    "        elif G.nodes[node]['state']=='infected':\n",
    "            node_color.append('red')\n",
    "        # if the node has the attribute recovered\n",
    "        elif G.nodes[node]['state']=='recovered':\n",
    "            node_color.append('green')\n",
    "        elif G.nodes[node]['state']=='dead':\n",
    "            node_color.append('yellow')\n",
    "    nx.draw(G, with_labels=False, node_size=50,node_color=node_color)\n",
    "    \n",
    "def countall(G):\n",
    "    total = [0,0,0,0]\n",
    "    for node in G.nodes:\n",
    "        if G.nodes[node]['state']=='infected':\n",
    "            total[0] += 1\n",
    "        elif G.nodes[node]['state']=='recovered':\n",
    "            total[1] += 1\n",
    "        elif G.nodes[node]['state']=='susceptible':\n",
    "            total[2] += 1\n",
    "        elif G.nodes[node]['state']=='dead':\n",
    "            total[3] += 1\n",
    "    return total\n",
    "    \n",
    "def countinfected(G):\n",
    "    infected,recovered,susceptible,dead = countall(G)\n",
    "    return infected\n",
    "\n",
    "def countdead(G):\n",
    "    infected,recovered,susceptible,dead = countall(G)\n",
    "    return dead"
   ]
  },
  {
   "cell_type": "markdown",
   "metadata": {},
   "source": [
    "## Now for some simulations"
   ]
  },
  {
   "cell_type": "code",
   "execution_count": 6,
   "metadata": {},
   "outputs": [],
   "source": [
    "# Now I define a function for running the simulations\n",
    "# We are interested in studying basically two effects\n",
    "# On the one hand, the total dead\n",
    "# On the other, \"flattening the curve\". This is, looking at the maximum\n",
    "# of infected during the process and see how we can reduce it\n",
    "def runsimulation(n,p,k,a,r,s):\n",
    "    G = createnetwork(n,p,k,a,r)\n",
    "    data = []\n",
    "    for i in range(s):\n",
    "        G = contagionstep(G)\n",
    "        data.append(countall(G))\n",
    "    return data"
   ]
  },
  {
   "cell_type": "markdown",
   "metadata": {},
   "source": [
    "## First we define a benchmark for comparison\n",
    "\n",
    "The parameters are speculative."
   ]
  },
  {
   "cell_type": "code",
   "execution_count": 7,
   "metadata": {},
   "outputs": [],
   "source": [
    "def benchmark():\n",
    "    # We are going to save the average of infected, recovered, suceptible,\n",
    "    # and dead for each of the 150 steps of the process\n",
    "    # We begin by creating an empty list\n",
    "    data = []\n",
    "    for i in range(150):\n",
    "        data.append([0,0,0,0])\n",
    "\n",
    "    sims=1\n",
    "    for n in range(iterations):\n",
    "        for r in [1,1]:\n",
    "            for probs in [0.001,0.00075,0.0005]:\n",
    "                for kids in [1/4,1/3]:\n",
    "                    for adults in [1/3,1/2]:\n",
    "                        # Now we store the data recursively averaging\n",
    "                        simdata = runsimulation(10000,probs,kids,adults,r,150)\n",
    "                        for j in range(150):\n",
    "                            for k in range(4):\n",
    "                                data[j][k] = ((data[j][k]*sims)+(simdata[j][k]))/(sims+1)\n",
    "                        sims+=1\n",
    "\n",
    "    benchmarkdata = data\n",
    "    return benchmarkdata"
   ]
  },
  {
   "cell_type": "code",
   "execution_count": 8,
   "metadata": {},
   "outputs": [
    {
     "data": {
      "image/png": "[encoded data removed]",
      "text/plain": [
       "<Figure size 432x288 with 1 Axes>"
      ]
     },
     "metadata": {
      "needs_background": "light"
     },
     "output_type": "display_data"
    }
   ],
   "source": [
    "benchmarkdata = benchmark()\n",
    "\n",
    "steps = []\n",
    "for i in range(150):\n",
    "    steps.append(i)\n",
    "plt.plot(steps,benchmarkdata)\n",
    "plt.ylabel('Benchmark Populations')\n",
    "plt.xlabel(\"Steps\")\n",
    "plt.show()\n",
    "# Green is (mean) suceptible - i.e. data[i][2]\n",
    "# Blue is (mean) infected - i.e. data[i][0]\n",
    "# Yellow is (mean) recovered - i.e. data[i][1]\n",
    "# Red is (mean) dead - i.e. data[i][3]"
   ]
  },
  {
   "cell_type": "markdown",
   "metadata": {},
   "source": [
    "## First intervention: Social Distancing\n",
    "\n",
    "We model social distancing by (uniformely) lowering the weights in the edges of a network."
   ]
  },
  {
   "cell_type": "code",
   "execution_count": 9,
   "metadata": {},
   "outputs": [],
   "source": [
    "def socialdistancing():\n",
    "    data = []\n",
    "    for i in range(150):\n",
    "        data.append([0,0,0,0])\n",
    "\n",
    "    # but now we consider reduction parameters r = 0.5,0.75\n",
    "    sims=1\n",
    "    for n in range(iterations):\n",
    "        for r in [0.5,0.75]:\n",
    "            for probs in [0.001,0.00075,0.0005]:\n",
    "                for kids in [1/4,1/3]:\n",
    "                    for adults in [1/3,1/2]:\n",
    "                        # Now we store the data recursively averaging\n",
    "                        simdata = runsimulation(10000,probs,kids,adults,r,150)\n",
    "                        for j in range(150):\n",
    "                            for k in range(4):\n",
    "                                data[j][k] = ((data[j][k]*sims)+(simdata[j][k]))/(sims+1)\n",
    "                        sims+=1\n",
    "\n",
    "    distancingdata = data\n",
    "    return distancingdata"
   ]
  },
  {
   "cell_type": "code",
   "execution_count": 10,
   "metadata": {},
   "outputs": [
    {
     "data": {
      "image/png": "[encoded data removed]",
      "text/plain": [
       "<Figure size 432x288 with 1 Axes>"
      ]
     },
     "metadata": {
      "needs_background": "light"
     },
     "output_type": "display_data"
    }
   ],
   "source": [
    "distancingdata = socialdistancing()\n",
    "steps = []\n",
    "for i in range(150):\n",
    "    steps.append(i)\n",
    "plt.plot(steps,distancingdata)\n",
    "plt.ylabel('Distancing Populations')\n",
    "plt.xlabel(\"Steps\")\n",
    "plt.show()\n",
    "# Green is (mean) suceptible - i.e. data[i][2]\n",
    "# Blue is (mean) infected - i.e. data[i][0]\n",
    "# Yellow is (mean) recovered - i.e. data[i][1]\n",
    "# Red is (mean) dead - i.e. data[i][3]"
   ]
  },
  {
   "cell_type": "markdown",
   "metadata": {},
   "source": [
    "## Second Intervention: Striving for Herd Immunity\n",
    "\n",
    "The idea here is to deliberately infect people with a high recovery rate and low mortality rate.\n",
    "\n",
    "We model this by randomly picking one individual at each step, if they are a kid or adult and susceptible, we infect them. Otherwise, we leave it as it stands. "
   ]
  },
  {
   "cell_type": "code",
   "execution_count": 11,
   "metadata": {},
   "outputs": [],
   "source": [
    "def runherdsimulation(n,p,k,a,r,s):\n",
    "    G = createnetwork(n,p,k,a,r)\n",
    "    data = []\n",
    "    for i in range(s):\n",
    "        contagionstep(G)\n",
    "        # Adding the line for deliberate infection\n",
    "        # Randomly picking someone and infecting them if they are\n",
    "        # not senior and were susceptible\n",
    "        random_node = sample(list(G.nodes),1)\n",
    "        if G.nodes[random_node[0]]['age'] != 'senior':\n",
    "            if G.nodes[random_node[0]]['state'] == 'susceptible':\n",
    "                G.add_node(random_node[0], state = \"infected\")\n",
    "        data.append(countall(G))\n",
    "    return data"
   ]
  },
  {
   "cell_type": "code",
   "execution_count": 12,
   "metadata": {},
   "outputs": [],
   "source": [
    "def herdimmunity():\n",
    "    data = []\n",
    "    for i in range(150):\n",
    "        data.append([0,0,0,0])\n",
    "\n",
    "    # but now we consider reduction parameters r = 0.5,0.75\n",
    "    sims=1\n",
    "    for n in range(iterations):\n",
    "        for r in [1,1]:\n",
    "            for probs in [0.001,0.00075,0.0005]:\n",
    "                for kids in [1/4,1/3]:\n",
    "                    for adults in [1/3,1/2]:\n",
    "                        # Now we store the data recursively averaging\n",
    "                        simdata = runherdsimulation(10000,probs,kids,adults,r,150)\n",
    "                        for j in range(150):\n",
    "                            for k in range(4):\n",
    "                                data[j][k] = ((data[j][k]*sims)+(simdata[j][k]))/(sims+1)\n",
    "                        sims+=1\n",
    "\n",
    "    herddata = data\n",
    "    return herddata"
   ]
  },
  {
   "cell_type": "code",
   "execution_count": 13,
   "metadata": {},
   "outputs": [
    {
     "data": {
      "image/png": "[encoded data removed]",
      "text/plain": [
       "<Figure size 432x288 with 1 Axes>"
      ]
     },
     "metadata": {
      "needs_background": "light"
     },
     "output_type": "display_data"
    }
   ],
   "source": [
    "herddata = herdimmunity()\n",
    "steps = []\n",
    "for i in range(150):\n",
    "    steps.append(i)\n",
    "plt.plot(steps,herddata)\n",
    "plt.ylabel('Distancing Populations')\n",
    "plt.xlabel(\"Steps\")\n",
    "plt.show()\n",
    "# Green is (mean) suceptible - i.e. data[i][2]\n",
    "# Blue is (mean) infected - i.e. data[i][0]\n",
    "# Yellow is (mean) recovered - i.e. data[i][1]\n",
    "# Red is (mean) dead - i.e. data[i][3]"
   ]
  },
  {
   "cell_type": "markdown",
   "metadata": {},
   "source": [
    "## Finally we combine both methods: Distancing and Herd"
   ]
  },
  {
   "cell_type": "code",
   "execution_count": 14,
   "metadata": {},
   "outputs": [],
   "source": [
    "def both():\n",
    "    data = []\n",
    "    for i in range(150):\n",
    "        data.append([0,0,0,0])\n",
    "\n",
    "    sims=1\n",
    "    for n in range(iterations):\n",
    "        for r in [0.5,0.75]:\n",
    "            for probs in [0.001,0.00075,0.0005]:\n",
    "                for kids in [1/4,1/3]:\n",
    "                    for adults in [1/3,1/2]:\n",
    "                        # Now we store the data recursively averaging\n",
    "                        simdata = runherdsimulation(10000,probs,kids,adults,r,150)\n",
    "                        for j in range(150):\n",
    "                            for k in range(4):\n",
    "                                data[j][k] = ((data[j][k]*sims)+(simdata[j][k]))/(sims+1)\n",
    "                        sims+=1\n",
    "\n",
    "    bothdata = data\n",
    "    return bothdata"
   ]
  },
  {
   "cell_type": "code",
   "execution_count": 15,
   "metadata": {},
   "outputs": [
    {
     "data": {
      "image/png": "[encoded data removed]",
      "text/plain": [
       "<Figure size 432x288 with 1 Axes>"
      ]
     },
     "metadata": {
      "needs_background": "light"
     },
     "output_type": "display_data"
    }
   ],
   "source": [
    "bothdata = both()\n",
    "steps = []\n",
    "for i in range(150):\n",
    "    steps.append(i)\n",
    "plt.plot(steps,bothdata)\n",
    "plt.ylabel('Distancing Populations')\n",
    "plt.xlabel(\"Steps\")\n",
    "plt.show()\n",
    "# Green is (mean) suceptible - i.e. data[i][2]\n",
    "# Blue is (mean) infected - i.e. data[i][0]\n",
    "# Yellow is (mean) recovered - i.e. data[i][1]\n",
    "# Red is (mean) dead - i.e. data[i][3]"
   ]
  },
  {
   "cell_type": "markdown",
   "metadata": {},
   "source": [
    "## Comparison Plots"
   ]
  },
  {
   "cell_type": "code",
   "execution_count": 16,
   "metadata": {},
   "outputs": [
    {
     "data": {
      "image/png": "[encoded data removed]",
      "text/plain": [
       "<Figure size 432x288 with 1 Axes>"
      ]
     },
     "metadata": {
      "needs_background": "light"
     },
     "output_type": "display_data"
    }
   ],
   "source": [
    "# Let us build a plot for infected under the four different procedures\n",
    "steps = []\n",
    "infected = []\n",
    "for i in range(150):\n",
    "    steps.append(i)\n",
    "    stepdata = [benchmarkdata[i][0],distancingdata[i][0],herddata[i][0],bothdata[i][0]]\n",
    "    infected.append(stepdata)\n",
    "    \n",
    "plt.plot(steps,infected)\n",
    "plt.title('Preferential Attachment Networks:Average Infected per Round')\n",
    "plt.ylabel('Infected by Process')\n",
    "plt.xlabel(\"Steps\")\n",
    "plt.savefig(\"Preferential Attachment Networks Infected Average.png\")\n",
    "plt.show()\n",
    "# Blue is Benchmark\n",
    "# Yellow is Distancing\n",
    "# Green is Herd Immunity\n",
    "# Red is Both"
   ]
  },
  {
   "cell_type": "code",
   "execution_count": 17,
   "metadata": {},
   "outputs": [
    {
     "data": {
      "image/png": "[encoded data removed]",
      "text/plain": [
       "<Figure size 432x288 with 1 Axes>"
      ]
     },
     "metadata": {
      "needs_background": "light"
     },
     "output_type": "display_data"
    },
    {
     "name": "stdout",
     "output_type": "stream",
     "text": [
      "705.26416015625\n"
     ]
    }
   ],
   "source": [
    "# Let us build a plot for deaths under the four different procedures\n",
    "steps = []\n",
    "infected = []\n",
    "for i in range(150):\n",
    "    steps.append(i)\n",
    "    stepdata = [benchmarkdata[i][3],distancingdata[i][3],herddata[i][3],bothdata[i][3]]\n",
    "    infected.append(stepdata)\n",
    "    \n",
    "plt.plot(steps,infected)\n",
    "plt.title('Preferential Attachment Networks:Average Deaths per Round')\n",
    "plt.ylabel('Deaths by Process')\n",
    "plt.xlabel(\"Steps\")\n",
    "plt.savefig(\"Preferential Attachment Networks Deaths Average.png\")\n",
    "plt.show()\n",
    "# Blue is Benchmark\n",
    "# Yellow is Distancing\n",
    "# Green is Herd Immunity\n",
    "# Red is Both\n",
    "\n",
    "end = time.time()\n",
    "print(end - starttotal)"
   ]
  }
 ],
 "metadata": {
  "kernelspec": {
   "display_name": "Python 3",
   "language": "python",
   "name": "python3"
  },
  "language_info": {
   "codemirror_mode": {
    "name": "ipython",
    "version": 3
   },
   "file_extension": ".py",
   "mimetype": "text/x-python",
   "name": "python",
   "nbconvert_exporter": "python",
   "pygments_lexer": "ipython3",
   "version": "3.7.3"
  }
 },
 "nbformat": 4,
 "nbformat_minor": 2
}
